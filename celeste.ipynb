{
 "cells": [
  {
   "cell_type": "markdown",
   "metadata": {
    "collapsed": true
   },
   "source": [
    "# Mecánica Celeste\n",
    "\n",
    "Se ha desarrollado esta pequeña aplicación usando un notebook de jupyter para mostrar de forma cómoda la funcionalidad implementada para la práctica de Mecánica Celeste orientada al estudio de las propiedades físicas de los planetas que orbitan en el Sistema solar."
   ]
  },
  {
   "cell_type": "code",
   "execution_count": null,
   "metadata": {
    "collapsed": false,
    "scrolled": true
   },
   "outputs": [],
   "source": [
    "import plotly\n",
    "from display import Displayer\n",
    "from planet import Planet, planets_dict\n",
    "import numpy as np\n",
    "import ipywidgets as wdgs\n",
    "\n",
    "plotly.offline.init_notebook_mode(connected=True)\n",
    "\n",
    "displayer = Displayer()"
   ]
  },
  {
   "cell_type": "markdown",
   "metadata": {},
   "source": [
    "## Información sobre el planeta\n",
    "\n",
    "En esta primera celda, se muestra información sobre los planetas. Tras ejecutar la misma (la celda se ejecuta haciendo click sobre ella y pulsando la combinación de teclas Shift + Intro), aparecerán una lista que permite seleccionar el planeta y un cuadro de texto para especificar el día en el que se quieren realizar los cálculos.\n",
    "Debajo de éstos, aparecerán los resultados obtenidos. Dichos resultados son los siguientes:\n",
    "\n",
    "- Posición del planeta\n",
    "- Distancia al sol\n",
    "- Velocidad del planeta\n",
    "- Módulo de la velocidad\n",
    "- Anomalía real del planeta (calculada primero usando el método de Runge-Kutta y después a partir de la anomalía excéntrica)\n",
    "- Módulo del momento angular el planeta, primero en función del tiempo y después como constante a partir de las constantes propias del planeta\n",
    "- Anomalía excéntrica del planeta, primero usando funciones de Bessel y después aproximando el valor por el método de Newton"
   ]
  },
  {
   "cell_type": "code",
   "execution_count": null,
   "metadata": {
    "collapsed": false
   },
   "outputs": [],
   "source": [
    "info_planet_picker = wdgs.Dropdown(options=planets_dict, description=\"Planeta\")\n",
    "info_day_picker = wdgs.FloatText(value=1, description=\"Día\", disabled=False)\n",
    "wdgs.interact(displayer.print_information, planet=info_planet_picker, time=info_day_picker);"
   ]
  },
  {
   "cell_type": "markdown",
   "metadata": {},
   "source": [
    "## Representación de la órbita del planeta\n",
    "\n",
    "Tras el cálculo de los valores anteriores, pasamos ahora a representar en los ejes cartesianos. La ejecución de la celda siguiente es idéntica a la anterior (click sobre la celda y a continuación Shift + Intro). Una vez ejecutada, se muestra de nuevo la lista desplegable y el cuadro de texto para introducir el día.\n",
    "\n",
    "Debajo, se mostrará un gráfico en el que aparece dibujada la órbita, el Sol en el punto (0,0), y el planeta sobre la órbita, en la posición dada por el día especificado"
   ]
  },
  {
   "cell_type": "code",
   "execution_count": null,
   "metadata": {
    "collapsed": false
   },
   "outputs": [],
   "source": [
    "orbit_planet_picker = wdgs.Dropdown(options=planets_dict, description=\"Planeta\")\n",
    "orbit_day_picker = wdgs.FloatText(value=1, description=\"Día\", disabled=False)\n",
    "wdgs.interact(displayer.display_orbit, planet=orbit_planet_picker, time=orbit_day_picker);"
   ]
  }
 ],
 "metadata": {
  "kernelspec": {
   "display_name": "Python 3",
   "language": "python",
   "name": "python3"
  },
  "language_info": {
   "codemirror_mode": {
    "name": "ipython",
    "version": 3
   },
   "file_extension": ".py",
   "mimetype": "text/x-python",
   "name": "python",
   "nbconvert_exporter": "python",
   "pygments_lexer": "ipython3",
   "version": "3.6.0"
  }
 },
 "nbformat": 4,
 "nbformat_minor": 2
}
