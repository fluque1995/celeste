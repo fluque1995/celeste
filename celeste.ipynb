{
 "cells": [
  {
   "cell_type": "code",
   "execution_count": 1,
   "metadata": {
    "collapsed": false,
    "scrolled": true
   },
   "outputs": [
    {
     "name": "stdout",
     "output_type": "stream",
     "text": [
      "Posición de Venus en 3: [0.71536065915364633, 0.061003693841350716]\n",
      "Distancia al sol de Venus en 3: 0.7179570483859243\n",
      "Velocidad de Venus en 3: [-0.0017178427371177299, 0.020285828544630451]\n",
      "Módulo de la velocidad de Venus en 3: 0.020358433717052295\n",
      "Anomalía real de Venus en 3: 0.08507101862155231\n",
      "Energía de Venus en 3: -0.00020436202189289188\n",
      "Energía (constante) de Venus: -0.0002043620218928918\n"
     ]
    }
   ],
   "source": [
    "import plotly\n",
    "from display import Displayer\n",
    "from planet import Planet, planets_dict\n",
    "import numpy as np\n",
    "from ipywidgets import interact_manual\n",
    "\n",
    "plotly.offline.init_notebook_mode()\n",
    "\n",
    "displayer = Displayer()\n",
    "\n",
    "interact_manual(displayer.print_information, planet=planets_dict, time_str=\"Introduzca el tiempo en días\")"
   ]
  },
  {
   "cell_type": "code",
   "execution_count": null,
   "metadata": {
    "collapsed": true
   },
   "outputs": [],
   "source": []
  }
 ],
 "metadata": {
  "kernelspec": {
   "display_name": "Python 3",
   "language": "python",
   "name": "python3"
  },
  "language_info": {
   "codemirror_mode": {
    "name": "ipython",
    "version": 3
   },
   "file_extension": ".py",
   "mimetype": "text/x-python",
   "name": "python",
   "nbconvert_exporter": "python",
   "pygments_lexer": "ipython3",
   "version": "3.6.0"
  },
  "widgets": {
   "state": {
    "ac632901882a49fbb224f6d88735188a": {
     "views": [
      {
       "cell_index": 0
      }
     ]
    }
   },
   "version": "1.2.0"
  }
 },
 "nbformat": 4,
 "nbformat_minor": 2
}
