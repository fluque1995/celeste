{
 "cells": [
  {
   "cell_type": "markdown",
   "metadata": {
    "collapsed": true
   },
   "source": [
    "# Mecánica Celeste"
   ]
  },
  {
   "cell_type": "code",
   "execution_count": null,
   "metadata": {
    "collapsed": false,
    "scrolled": true
   },
   "outputs": [],
   "source": [
    "import plotly\n",
    "from display import Displayer\n",
    "from planet import Planet, planets_dict\n",
    "import numpy as np\n",
    "from ipywidgets import interact_manual\n",
    "\n",
    "plotly.offline.init_notebook_mode()\n",
    "\n",
    "displayer = Displayer()\n",
    "\n",
    "interact_manual(displayer.print_information, planet=planets_dict, time_str=\"Introduzca el tiempo en días\")"
   ]
  }
 ],
 "metadata": {
  "kernelspec": {
   "display_name": "Python 3",
   "language": "python",
   "name": "python3"
  },
  "language_info": {
   "codemirror_mode": {
    "name": "ipython",
    "version": 3
   },
   "file_extension": ".py",
   "mimetype": "text/x-python",
   "name": "python",
   "nbconvert_exporter": "python",
   "pygments_lexer": "ipython3",
   "version": "3.6.0"
  }
 },
 "nbformat": 4,
 "nbformat_minor": 2
}
