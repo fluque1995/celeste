{
 "cells": [
  {
   "cell_type": "markdown",
   "metadata": {
    "collapsed": true
   },
   "source": [
    "# Mecánica Celeste"
   ]
  },
  {
   "cell_type": "code",
   "execution_count": 1,
   "metadata": {
    "collapsed": false,
    "scrolled": true
   },
   "outputs": [
    {
     "name": "stdout",
     "output_type": "stream",
     "text": [
      "Posición de Júpiter en el día 46: [4.940488242831047, 0.36385784129704229]\n",
      "Distancia al sol de Júpiter en el día 46: 4.95386885234411\n",
      "Velocidad de Júpiter en el día 46: [-0.00055484696777924607, 0.0078963520148249526]\n",
      "Módulo de la velocidad de Júpiter en el día 46: 0.00791582151767483\n",
      "Anomalía real de Júpiter en el día 46: 0.0735154290481715\n",
      "Energía de Júpiter en el día 46: -2.8466901726655247e-05\n",
      "Energía (constante) de Júpiter: -2.8466901726655247e-05\n"
     ]
    }
   ],
   "source": [
    "import plotly\n",
    "from display import Displayer\n",
    "from planet import Planet, planets_dict\n",
    "import numpy as np\n",
    "import ipywidgets as wdgs\n",
    "\n",
    "plotly.offline.init_notebook_mode(connected=True)\n",
    "\n",
    "displayer = Displayer()\n",
    "\n",
    "planet_picker = wdgs.Dropdown(options=planets_dict, description=\"Planeta\")\n",
    "day_picker = wdgs.IntText(value=1, description=\"Día\", disabled=False)\n",
    "\n",
    "wdgs.interact_manual(displayer.print_information, planet=planet_picker, time=day_picker)\n",
    "wdgs.interact_manual(displayer.display_orbit, planet=planet_picker, time=day_picker)"
   ]
  },
  {
   "cell_type": "code",
   "execution_count": null,
   "metadata": {
    "collapsed": true
   },
   "outputs": [],
   "source": []
  }
 ],
 "metadata": {
  "kernelspec": {
   "display_name": "Python 3",
   "language": "python",
   "name": "python3"
  },
  "language_info": {
   "codemirror_mode": {
    "name": "ipython",
    "version": 3
   },
   "file_extension": ".py",
   "mimetype": "text/x-python",
   "name": "python",
   "nbconvert_exporter": "python",
   "pygments_lexer": "ipython3",
   "version": "3.6.0"
  },
  "widgets": {
   "state": {
    "489427a407464f51a4067a4cd2f9cd7a": {
     "views": [
      {
       "cell_index": 1
      }
     ]
    },
    "ca96ff13a28e4d4f89a8f1864f47a416": {
     "views": [
      {
       "cell_index": 1
      }
     ]
    }
   },
   "version": "1.2.0"
  }
 },
 "nbformat": 4,
 "nbformat_minor": 2
}
