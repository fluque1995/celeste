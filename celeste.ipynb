{
 "cells": [
  {
   "cell_type": "code",
   "execution_count": 1,
   "metadata": {
    "collapsed": false,
    "scrolled": true
   },
   "outputs": [
    {
     "name": "stdout",
     "output_type": "stream",
     "text": [
      "Posición de Saturno en 45: [9.0077252609487442, 0.2652946199988373]\n",
      "Distancia al sol de Saturno en 45: 9.01163112938674\n",
      "Velocidad de Saturno en 45: [-0.00016437526682004777, 0.0058938226598633106]\n",
      "Módulo de la velocidad de Saturno en 45: 0.005896114379340042\n",
      "Anomalía real de Saturno en 45: 0.029443388351751285\n",
      "Energía de Saturno en 45: -1.55392046406227e-05\n",
      "Energía (constante) de Saturno: -1.5539204640623232e-05\n"
     ]
    }
   ],
   "source": [
    "import plotly\n",
    "from display import Displayer\n",
    "from planet import Planet, planets_dict\n",
    "import numpy as np\n",
    "from ipywidgets import interact_manual\n",
    "\n",
    "plotly.offline.init_notebook_mode()\n",
    "\n",
    "displayer = Displayer()\n",
    "\n",
    "interact_manual(displayer.print_information, planet=planets_dict, time_str=\"Introduzca el tiempo en días\")"
   ]
  },
  {
   "cell_type": "code",
   "execution_count": null,
   "metadata": {
    "collapsed": true
   },
   "outputs": [],
   "source": []
  }
 ],
 "metadata": {
  "kernelspec": {
   "display_name": "Python 3",
   "language": "python",
   "name": "python3"
  },
  "language_info": {
   "codemirror_mode": {
    "name": "ipython",
    "version": 3
   },
   "file_extension": ".py",
   "mimetype": "text/x-python",
   "name": "python",
   "nbconvert_exporter": "python",
   "pygments_lexer": "ipython3",
   "version": "3.6.0"
  },
  "widgets": {
   "state": {
    "e328d688015c487b98fc51cb9e38acf3": {
     "views": [
      {
       "cell_index": 0
      }
     ]
    }
   },
   "version": "1.2.0"
  }
 },
 "nbformat": 4,
 "nbformat_minor": 2
}
