{
 "cells": [
  {
   "cell_type": "code",
   "execution_count": null,
   "metadata": {
    "collapsed": true
   },
   "outputs": [],
   "source": [
    "from planet import Planet\n",
    "\n",
    "planets_list = [\n",
    "    Planet(\"Mercurio\", 0.206, 0.387, 87.97),\n",
    "    Planet(\"Venus\", 0.007, 0.723, 224.7),\n",
    "    Planet(\"La tierra\", 0.017, 1, 365.26),\n",
    "    Planet(\"Marte\", 0.093, 1.524, 686.98),\n",
    "    Planet(\"Júpiter\", 0.093, 1.524, 686.98),\n",
    "    Planet(\"Saturno\", 0.093, 1.524, 686.98),\n",
    "    Planet(\"Urano\", 0.093, 1.524, 686.98),\n",
    "    Planet(\"Neptuno\", 0.093, 1.524, 686.98),\n",
    "]"
   ]
  },
  {
   "cell_type": "code",
   "execution_count": null,
   "metadata": {
    "collapsed": true
   },
   "outputs": [],
   "source": [
    "for planet in planets_list:\n",
    "    print(planet.position(3))\n",
    "    print(planet.distance_to_sun(3))\n",
    "    print(planet.speed(3))\n",
    "    print(planet.speed_module(3))\n",
    "    print(planet.energy())"
   ]
  }
 ],
 "metadata": {
  "kernelspec": {
   "display_name": "Python 3",
   "language": "python",
   "name": "python3"
  },
  "language_info": {
   "codemirror_mode": {
    "name": "ipython",
    "version": 3
   },
   "file_extension": ".py",
   "mimetype": "text/x-python",
   "name": "python",
   "nbconvert_exporter": "python",
   "pygments_lexer": "ipython3",
   "version": "3.6.0"
  }
 },
 "nbformat": 4,
 "nbformat_minor": 2
}
